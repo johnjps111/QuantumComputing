{
 "cells": [
  {
   "cell_type": "markdown",
   "metadata": {},
   "source": [
    "# Message from Dr. Ryoko\n",
    "\"*Hi! I hope you now understand how the Lights Out puzzle works.<br/>The floor of the room I must cross has 3 x 3 tiles. Each tile is made of a single qubit.<br/>\n",
    "Some of these qubits fluctuate between the ground state and the excited state. <br/> I have been observing their behavior and noticed that there is a pattern - the floor can only be in either one of the four patterns as shown in each of the examples below. <br/>\n",
    "Due to decoherence, there is not enough time to play around with the switches.<br/> You need to find out which board can be cleared with three switch operations. Good luck!*\"<br/>"
   ]
  },
  {
   "cell_type": "markdown",
   "metadata": {},
   "source": [
    "# Week2-B: Four-Lights Out\n",
    "In this problem, we are dealing with multiple binary data at the same time. \n",
    "We have to determine if each of the given four Lights Out boards are solvable under the given constraints, so let's devise a quantum circuit to solve them all at the same time.\n",
    "\n",
    "As an example, let's consider how to find a board that can be cleared with just a single switch operation from the 4 boards given below. The initial state of the 4 boards is given in the following two-dimensional array, where \"0\" and \"1\" represent \"off\" and \"on\" respectively similar to the previous learning problem:\n",
    "\n",
    "lightsout4_ex=\\[\\[Board 0\\],\\[Board 1\\],\\[Board 2\\],\\[Board 3\\]\\]"
   ]
  },
  {
   "cell_type": "markdown",
   "metadata": {},
   "source": [
    "## Answer Strategy\n",
    "If only one board is given, this is a decision problem.\n",
    "Using the algorithm from the first Lights Out puzzle (2A), you can solve this problem by counting the \"1\"s in the output.\n",
    " \n",
    "If we are given multiple boards, there will be several approaches.\n",
    "1. Iterate the same \"one board algorithm\" for each board.\n",
    "2. Hold information for multiple boards at the same time and solve the problems in a single run (execute the algorithm once). \n",
    "- For the rest of this document, we discuss how to use the latter approach to solve this type of problem.\n",
    "\n",
    "First, how do we keep data for all the boards at the same time?\n",
    "1. Naive data structures:　　9 Qubits/board * 4 boards > 32 qubits (Upper limit of ibm_qasm_simulator).\n",
    "2. Prepare the  superposition state:   $\\vert Board 0\\rangle + \\vert Board 1\\rangle + \\vert Board 2\\rangle + \\vert Board 3\\rangle$.\n",
    "    - The circuit configuration used for state generation is non-trivial.\n",
    "3. *qRAM* is known as one solution. \n",
    "    - **Pros**: Intuitive implementation. \n",
    "    - **Cons**: Computationally expensive. \n",
    "\n",
    "Of course you can devise and adopt other smart ways to do this.\n",
    "\n",
    "Here, we will focus on *qRAM* and describe its configuration and implementation."
   ]
  },
  {
   "cell_type": "code",
   "execution_count": 94,
   "metadata": {},
   "outputs": [],
   "source": [
    "#initialization\n",
    "import matplotlib.pyplot as plt\n",
    "%matplotlib inline\n",
    "import numpy as np\n",
    "\n",
    "# importing Qiskit\n",
    "from qiskit import IBMQ, BasicAer\n",
    "from qiskit.providers.ibmq import least_busy\n",
    "from qiskit import QuantumCircuit, ClassicalRegister, QuantumRegister\n",
    "from qiskit import Aer, execute\n",
    "\n",
    "# import basic plot tools\n",
    "from qiskit.tools.visualization import plot_histogram\n",
    "from qiskit.visualization import plot_bloch_multivector\n",
    "\n",
    "# optimization\n",
    "from qiskit.transpiler import PassManager\n",
    "from qiskit.transpiler.passes import Unroller\n",
    "from qiskit.compiler import transpile"
   ]
  },
  {
   "cell_type": "markdown",
   "metadata": {},
   "source": [
    "## qRAM: Quantum Random Access Memory\n",
    "\n",
    "In classical computers, RAM (Random Access Memory) is a type of volatile memory that has memory addresses $j$ and stores binary data corresponding to each address $D_j$.\n",
    "\n",
    "In the case of [qRAM](https://arxiv.org/abs/0708.1879) in a quantum computer, **address qubits $a$** have the $N$-addresses as superposition and the corresponding binary data is stored in **data qubits $d$** as a state vector.\n",
    "\\\\[\n",
    "\\sum_{j}\\frac{1}{\\sqrt{N}}\\vert j \\rangle_{a}\\vert 0 \\rangle_{d}\\xrightarrow{qRAM}\\sum_{j}\\frac{1}{\\sqrt{N}}\\vert j \\rangle_{a}\\vert D_{j} \\rangle_{d}\n",
    "\\\\]　　\n",
    "We call the right-hand side state \"qRAM\" and the corresponding gate operation \"qRAM operation\".\n",
    "\n",
    "Although qRAM operation requires $\\mathcal{O}(N\\log N)$ gates, it can be used to create superposition states of binary data intuitively.  \n",
    "\n",
    "qRAM has previously been applied to various quantum machine learning algorithms such as the HHL algorithm. For this problem, let's apply qRAM to Grover's algorithm."
   ]
  },
  {
   "cell_type": "markdown",
   "metadata": {},
   "source": [
    "## Example: Find the data from qRAM\n",
    "Prepare a qRAM of $n$-addresses in which the numbers $k_0, k_1, .. , k_{n-1}$ are stored in this order.  \n",
    "Find the address in which the number $m$ is stored using Grover's algorithm.  \n",
    "- $n = 4$\n",
    "- $k = [1,2,5,7]$\n",
    "- $m = 7$\n",
    "\n",
    "### qRAM operation.\n",
    "Here we show a circuit example of qRAM."
   ]
  },
  {
   "cell_type": "code",
   "execution_count": null,
   "metadata": {},
   "outputs": [],
   "source": [
    "address = QuantumRegister(2)\n",
    "data = QuantumRegister(3)\n",
    "c = ClassicalRegister(5)\n",
    "qc = QuantumCircuit(address,data,c)\n",
    "\n",
    "# address preparation\n",
    "qc.h([address[0],address[1]])         # |x,y> in superposition of states\n",
    "qc.barrier()\n",
    "# address 0 -> data = 1\n",
    "qc.x([address[0],address[1]])\n",
    "qc.rccx(address[0],address[1],data[2]) # addr|00> sets data[001] ... so data|001>\n",
    "qc.x([address[0],address[1]])\n",
    "qc.barrier()\n",
    "# address 1 -> data = 2\n",
    "qc.x(address[0])\n",
    "qc.rccx(address[0],address[1],data[1]) # addr|01> sets data[010] ... so data|010>\n",
    "qc.x(address[0])\n",
    "qc.barrier()\n",
    "# address 2 -> data = 5\n",
    "qc.x(address[1])\n",
    "qc.rccx(address[0],address[1],data[2]) # addr|10> sets data[001]\n",
    "qc.rccx(address[0],address[1],data[0]) # addr|10> sets data[100]  ... so data|101>\n",
    "qc.x(address[1])\n",
    "qc.barrier()\n",
    "# address 3 -> data = 7\n",
    "qc.rccx(address[0],address[1],data[2]) # addr|11> sets data[001]\n",
    "qc.rccx(address[0],address[1],data[1]) # addr|11> sets data[010]\n",
    "qc.rccx(address[0],address[1],data[0]) # addr|11> sets data[100] ... so data|111>\n",
    "qc.barrier()\n",
    "\n",
    "#Check the qRAM　status\n",
    "qc.measure(address[0:2], c[0:2]) # first two bits of classical are the address\n",
    "qc.measure(data[0:3], c[2:5])    # last three bits of classical answer are the data\n",
    " \n",
    "# Reverse the output string.\n",
    "qc = qc.reverse_bits()\n",
    "\n",
    "#backend = provider.get_backend('ibmq_qasm_simulator')\n",
    "backend = Aer.get_backend('qasm_simulator')\n",
    "job = execute(qc, backend=backend, shots=8000, seed_simulator=12345, backend_options={\"fusion_enable\":True})\n",
    "#job = execute(qc, backend=backend, shots=8192)\n",
    "result = job.result()\n",
    "count =result.get_counts()\n",
    "print(count)\n",
    "\n",
    "qc.draw(output='mpl')"
   ]
  },
  {
   "cell_type": "markdown",
   "metadata": {},
   "source": [
    "### qRAM Data Search\n",
    "To perform Grover's algorithm, we invert the sign of the **address qubit** containing $m$. We also need to initialize the **data qubit** by another qRAM operation before the Diffusion operation,\n",
    "\n",
    "\\begin{align*}\n",
    "\\vert j \\rangle_{a}\\vert D_{j} \\rangle_{d} \\vert - \\rangle_{f}\n",
    "\\xrightarrow{oracle}  \n",
    "\\left \\{\n",
    " \\begin{array}{l}\n",
    "-\\vert j \\rangle_{a}\\vert D_{j} \\rangle_{d} \\vert - \\rangle_{f},  D_{j} = m\\\\\n",
    "\\vert j \\rangle_{a}\\vert D_{j} \\rangle_{d} \\vert - \\rangle_{f},  D_{j}  \\neq m\n",
    " \\end{array}\n",
    " \\right.\n",
    " \\xrightarrow{qRAM}\n",
    "\\left \\{\n",
    " \\begin{array}{l}\n",
    "-\\vert j \\rangle_{a}\\vert 0 \\rangle_{d}\\vert - \\rangle_{f},  D_{j} = m \\\\\n",
    "\\vert j \\rangle_{a}\\vert 0 \\rangle_{d}\\vert - \\rangle_{f},　D_{j}\\neq m\n",
    " \\end{array}\n",
    " \\right.\n",
    " \\end{align*}\n",
    " \n",
    "where $f$ denotes the flag qubit.  \n",
    "\n",
    "In this case, we can configure an oracle operation using the [C3X gate](https://qiskit.org/documentation/stubs/qiskit.circuit.library.C3XGate.html#qiskit.circuit.library.C3XGate) . \n",
    "\n",
    "Here, we show the whole circuit for our [qRAM example](#qRAM-Example:-Find-the-data-from-qRAM)."
   ]
  },
  {
   "cell_type": "markdown",
   "metadata": {},
   "source": [
    "### Considerations for qRAM implementation\n",
    "In the above description we have introduced a naive *qRAM operation* circuit.\n",
    "Depending on the data structure, we can simplify the circuit by using **gate synthesis** (equivalence transformation) techniques.\n",
    "Also, some simplified gates, e.g. [RCCX](https://qiskit.org/documentation/stubs/qiskit.circuit.library.RCCXGate.html#qiskit.circuit.library.RCCXGate), may help improve your *CNOT*-saving implementation.\n",
    "\n",
    "An example of gate synthesis is shown below."
   ]
  },
  {
   "cell_type": "markdown",
   "metadata": {},
   "source": [
    "## Learning Exercise II-B\n",
    "Let's solve a 4-Lights Out problem with qRAM.  \n",
    "\n",
    "When the initial board state lightsout4=\\[\\[Board 0\\],\\[Board 1\\],\\[Board 2\\],\\[Board 3\\]\\] is described by the following data, \n",
    "determine the _binary_ number of the solvable boards in $3$ switch operations.  (ex. Board 0 → 00, 1 → 01, 2 → 10, 3 → 11)\n",
    "\n",
    "Answer by creating a quantum circuit to solve the puzzle shown in the figure below. In the quantum circuit to be submitted, measure only the `solution` (2bit) that solves the puzzle.\n",
    "\n",
    "To submit your solution, create a function which takes \"lightsout4\" as an input and returns `QuantumCircuit`.  You can choose a function name you like. Make sure it works even if you input another dataset to \"lightsout4\".\n",
    "\n",
    " **In addition, please implement the quantum circuit within 28 qubits.**\n",
    "\n",
    "Please note that you can get the answer with the same endian as the one used in the description. You can also use the following function.\n",
    "```python\n",
    "qc = qc.reverse_bits()\n",
    "```"
   ]
  },
  {
   "cell_type": "code",
   "execution_count": null,
   "metadata": {},
   "outputs": [],
   "source": [
    "lightsout4=[[1, 1, 1, 0, 0, 0, 1, 0, 0],\n",
    "            [1, 0, 1, 0, 0, 0, 1, 1, 0],\n",
    "            [1, 0, 1, 1, 1, 1, 0, 0, 1],\n",
    "            [1, 0, 0, 0, 0, 0, 1, 0, 0]]"
   ]
  },
  {
   "cell_type": "markdown",
   "metadata": {},
   "source": [
    "### Hints\n",
    "- Change the oracle of [qRAM data search](#qRAM-Data-search) to an appropriate one.\n",
    "- Data storing/writing in *QRAM operation* can be performed in any order. We can reduce the number of gates by taking into account the _hamming distance_ of the address and input data."
   ]
  },
  {
   "cell_type": "code",
   "execution_count": null,
   "metadata": {},
   "outputs": [],
   "source": []
  },
  {
   "cell_type": "code",
   "execution_count": 262,
   "metadata": {},
   "outputs": [],
   "source": [
    "lightsout4=[[1, 1, 1, 0, 0, 0, 1, 0, 0],\n",
    "            [1, 0, 1, 0, 0, 0, 1, 1, 0],\n",
    "            [1, 0, 1, 1, 1, 1, 0, 0, 1],\n",
    "            [1, 0, 0, 0, 0, 0, 1, 0, 0]]\n",
    "##########################################################################################\n",
    "def diffuser(qc, reg) :\n",
    "    qc.h(reg)\n",
    "    qc.x(reg)\n",
    "    qc.h(reg[-1])\n",
    "    qc.mct(reg[:-1],reg[-1], mode='noancilla')\n",
    "    qc.h(reg[-1])\n",
    "    qc.x(reg)\n",
    "    qc.h(reg)\n",
    "\n",
    "##########################################################################################\n",
    "def applyQRAM(qc, lightsout4, addr, tile) :\n",
    "    #encode the tileflip\n",
    "    #add 0 -> flip 0\n",
    "    qc.x([addr[0],addr[1]])\n",
    "    for i in range(9):\n",
    "        if lightsout4[0][i] == 1:\n",
    "            qc.rccx(addr[0],addr[1],tile[i])\n",
    "    qc.x([addr[0],addr[1]])\n",
    "    #add 1 -> flip 1\n",
    "    qc.x(addr[0])\n",
    "    for i in range(9):\n",
    "        if lightsout4[1][i] == 1:\n",
    "            qc.rccx(addr[0],addr[1],tile[i])\n",
    "    qc.x(addr[0])\n",
    "    #add 2 -> flip 2\n",
    "    qc.x(addr[1])\n",
    "    for i in range(9):\n",
    "        if lightsout4[2][i] == 1:\n",
    "            qc.rccx(addr[0],addr[1],tile[i])\n",
    "    qc.x(addr[1])\n",
    "    #add 3 -> flip 3\n",
    "    for i in range(9):\n",
    "        if lightsout4[3][i] == 1:\n",
    "            qc.rccx(addr[0],addr[1],tile[i])\n",
    "\n",
    "##########################################################################################\n",
    "def inner_oracle(qc, grps, flip, tile, ora1) :\n",
    "    # computation\n",
    "    for x, ls in enumerate(grps):\n",
    "        for y in ls:\n",
    "            qc.cx(flip[x],tile[y])\n",
    "    # inner oracle\n",
    "    qc.x(tile[:])\n",
    "    qc.mct(tile[:], ora1, mode='noancilla')\n",
    "    qc.x(tile[:])\n",
    "    # un-computation\n",
    "    for x, ls in enumerate(grps):\n",
    "        for y in ls:\n",
    "            qc.cx(flip[x],tile[y])\n",
    "\n",
    "##########################################################################################\n",
    "def week2b_ans_func(lightsout4):\n",
    "\n",
    "    ######################################################################\n",
    "    # classical set-up...\n",
    "    ######################################################################\n",
    "    grps = [[0,1,3],\n",
    "            [0,1,2,4],\n",
    "            [1,2,5],\n",
    "            [0,3,4,6],\n",
    "            [1,3,4,5,7],\n",
    "            [2,4,5,8],\n",
    "            [3,6,7],\n",
    "            [4,6,7,8],\n",
    "            [5,7,8]]\n",
    "\n",
    "    ######################################################################\n",
    "    # quantum computation...\n",
    "    ######################################################################\n",
    "    # intuition: tile is entangled with address\n",
    "    # 'flip' is diffused in superposition so that every possibility occurs\n",
    "    # so when we do cx(flip,tile) ...\n",
    "    # - it's OK as long as we 'undo' it to get 'tile' back to normal\n",
    "    # - it entangles flip and tile\n",
    "    # - the oracle looks for tiles cleared\n",
    "    #  - if we succeeded, that essentially selects the 'flip' that worked\n",
    "    ######################################################################\n",
    "    addr = QuantumRegister(2,name = 'addr')\n",
    "    flip = QuantumRegister(9,name = 'flip')\n",
    "    tile = QuantumRegister(9,name = 'tile')\n",
    "    ora1 = QuantumRegister(1,name='ora1')\n",
    "    ora2 = QuantumRegister(1,name='ora2')\n",
    "    cbits = ClassicalRegister(2)\n",
    "    qc = QuantumCircuit(addr,flip,tile,ora1,ora2,cbits)\n",
    "\n",
    "    # create superposition / entanglement\n",
    "    qc.h(addr[:])\n",
    "    qc.h(flip[:])\n",
    "    qc.x(ora2[0])\n",
    "    qc.h(ora2[0])\n",
    "\n",
    "    # apply QRAM\n",
    "    applyQRAM(qc, lightsout4, addr, tile)\n",
    "    \n",
    "    # inner oracle for 'flip'\n",
    "    inner_oracle(qc, grps, flip, tile, ora1)\n",
    "\n",
    "    #diffuser for 'flip'\n",
    "    diffuser(qc, flip)\n",
    "\n",
    "    # counter - number of flips\n",
    "    for i in range(9):\n",
    "        qc.mct([flip[i],tile[0],tile[1],tile[2]], tile[3], mode = 'noancilla')\n",
    "        qc.mct([flip[i],tile[0],tile[1]],tile[2], mode = 'noancilla')\n",
    "        qc.ccx(flip[i],tile[0],tile[1])\n",
    "        qc.cx(flip[i],tile[0])\n",
    "\n",
    "    # oracle - want three or fewer\n",
    "    qc.x(tile[2:4])\n",
    "    qc.ccx(tile[2],tile[3],ora2[0])\n",
    "    qc.x(tile[2:4])\n",
    "\n",
    "    # counter - number of flips (un-computation)\n",
    "    for i in range(9):\n",
    "        qc.cx(flip[i],tile[0])\n",
    "        qc.ccx(flip[i],tile[0],tile[1])\n",
    "        qc.mct([flip[i],tile[0],tile[1]],tile[2], mode = 'noancilla')\n",
    "        qc.mct([flip[i],tile[0],tile[1],tile[2]], tile[3], mode = 'noancilla')\n",
    "    qc.x(tile)\n",
    "\n",
    "    # diffuser for 'flip' (un-computation)\n",
    "    diffuser(qc, flip)\n",
    "\n",
    "    # inner oracle (un-computation)\n",
    "    inner_oracle(qc, grps, flip, tile, ora1)\n",
    "\n",
    "    # apply QRAM (un-computation)\n",
    "    applyQRAM(qc, lightsout4, addr, tile)\n",
    "    \n",
    "    # diffuser for addr\n",
    "    diffuser(qc, addr)\n",
    "\n",
    "    qc.h(ora2[0])\n",
    "    qc.x(ora2[0])\n",
    "\n",
    "    # measure\n",
    "    qc.measure(addr,cbits)\n",
    "    #qc = qc.reverse_bits()\n",
    "\n",
    "    # basis_gates = ['h', 'cx', 'cu1', 'u1', 'u3']\n",
    "    # basis_gates = ['u3','cx'] ... seems to be the best\n",
    "    pmu = Unroller(['u3','cx'])\n",
    "    pmm = PassManager(pmu)\n",
    "    qc_nonopt = pmm.run(qc)\n",
    "    qc_opt = transpile(qc_nonopt, basis_gates=['u3','cx'],optimization_level=3)\n",
    "\n",
    "    return qc_opt"
   ]
  },
  {
   "cell_type": "code",
   "execution_count": 263,
   "metadata": {},
   "outputs": [
    {
     "data": {
      "image/png": "[encoded data removed]",
      "text/plain": [
       "<Figure size 504x360 with 1 Axes>"
      ]
     },
     "execution_count": 263,
     "metadata": {},
     "output_type": "execute_result"
    }
   ],
   "source": [
    "# import basic plot tools\n",
    "from qiskit.tools.visualization import plot_histogram\n",
    "from qiskit.visualization import plot_bloch_multivector\n",
    "\n",
    "# The starting pattern is represented by this list of numbers.\n",
    "# sample problems and answers for week-2B\n",
    "# problem_name = [[board0], [board1],[board2],[board3],'answer']\n",
    "#Pushes Q1:[1,4,5,6], Q2[5,6,2,4], Q3:[6,5,4,3]\n",
    "Q1 = [[0,0,0, 0,0,1, 0,1,1], [0,1,0, 1,0,1, 0,1,0], [0,1,1, 1,0,1, 0,1,0], [1,1,1, 0,1,0, 1,1,0], '00']\n",
    "Q2 = [[1,0,1, 1,0,1, 0,0,1], [0,1,0, 0,0,1, 1,1,1], [0,1,1, 1,0,0, 1,0,0], [1,0,0, 1,0,0, 1,0,0], '10']\n",
    "Q3 = [[0,0,0, 0,1,1, 0,0,1], [0,1,0, 1,1,0, 0,0,0], [0,1,1, 1,0,0, 0,0,1], [1,0,0, 0,0,0, 1,0,1], '11']\n",
    "\n",
    "#lights = q3[0]\n",
    "qc = week2b_ans_func(Q2[0:4])\n",
    "#qc.draw()\n",
    "\n",
    "# Simulate and plot results\n",
    "qasm_simulator = Aer.get_backend('qasm_simulator')\n",
    "result = execute(qc, backend=qasm_simulator, shots=16).result()\n",
    "plot_histogram(result.get_counts())\n",
    "\n",
    "### real quantum device\n",
    "\n",
    "### Load our saved IBMQ accounts and get the least busy backend device\n",
    "#IBMQ.load_account()\n",
    "#provider = IBMQ.get_provider(hub='ibm-q')\n",
    "#my_backend = least_busy(provider.backends(filters=lambda b: b.configuration().n_qubits >= 28 and\n",
    "#                                   not b.configuration().simulator and b.status().operational==True))\n",
    "#print(\"Least busy backend: \", my_backend)"
   ]
  },
  {
   "cell_type": "code",
   "execution_count": 264,
   "metadata": {},
   "outputs": [
    {
     "name": "stdout",
     "output_type": "stream",
     "text": [
      "Running week2b_ans_func...\n",
      "Computing cost...\n",
      "Starting experiments. Please wait...\n",
      "You may monitor the job (id: 5fc7372226d87e0019d52254) status and proceed to grading when it successfully completes.\n",
      "qc_cost 67008\n"
     ]
    },
    {
     "data": {
      "text/plain": [
       "{'00': 213, '01': 6711, '10': 179, '11': 897}"
      ]
     },
     "execution_count": 264,
     "metadata": {},
     "output_type": "execute_result"
    }
   ],
   "source": [
    "# Submission code\n",
    "from qc_grader import prepare_ex2b, grade_ex2b, submit_ex2b\n",
    "\n",
    "# Execute your circuit with following prepare_ex2b() function.\n",
    "# The prepare_ex2b() function works like the execute() function with only QuantumCircuit as an argument.\n",
    "job  =  prepare_ex2b(week2b_ans_func)\n",
    "\n",
    "result = job.result()\n",
    "count = result.get_counts()\n",
    "original_problem_set_counts = count[0]\n",
    "print('qc_cost',result.header.qc_cost)\n",
    "original_problem_set_counts\n",
    "# The bit string with the highest number of observations is treated as the solution."
   ]
  },
  {
   "cell_type": "code",
   "execution_count": 265,
   "metadata": {},
   "outputs": [
    {
     "data": {
      "image/png": "[encoded data removed]",
      "text/plain": [
       "<Figure size 504x360 with 1 Axes>"
      ]
     },
     "execution_count": 265,
     "metadata": {},
     "output_type": "execute_result"
    }
   ],
   "source": [
    "plot_histogram(result.get_counts())"
   ]
  },
  {
   "cell_type": "code",
   "execution_count": 266,
   "metadata": {},
   "outputs": [
    {
     "name": "stdout",
     "output_type": "stream",
     "text": [
      "Grading your answer. Please wait...\n",
      "\n",
      "Congratulations 🎉! Your answer is correct.\n",
      "Your score is 67008.\n",
      "Feel free to submit your answer.\n"
     ]
    }
   ],
   "source": [
    "# Check your answer by executing following code.\n",
    "# The quantum cost of the QuantumCircuit is obtained as the score. \n",
    "# The quantum cost is related to rank only in the third week.\n",
    "# adding rccx in address calc .............. 67,008\n",
    "grade_ex2b(job)"
   ]
  },
  {
   "cell_type": "code",
   "execution_count": 10,
   "metadata": {},
   "outputs": [
    {
     "name": "stdout",
     "output_type": "stream",
     "text": [
      "Submitting your answer. Please wait...\n",
      "\n",
      "Success 🎉! Your answer has been submitted.\n",
      "There seems to be huge \"noise clusters\" interfering with Dr. Ryoko’s device. Can you please help?\n"
     ]
    }
   ],
   "source": [
    "# Submit your results by executing following code. You can submit as many times as you like during the period. \n",
    "submit_ex2b(job)"
   ]
  },
  {
   "cell_type": "code",
   "execution_count": null,
   "metadata": {},
   "outputs": [],
   "source": []
  }
 ],
 "metadata": {
  "kernelspec": {
   "display_name": "Python 3",
   "language": "python",
   "name": "python3"
  },
  "language_info": {
   "codemirror_mode": {
    "name": "ipython",
    "version": 3
   },
   "file_extension": ".py",
   "mimetype": "text/x-python",
   "name": "python",
   "nbconvert_exporter": "python",
   "pygments_lexer": "ipython3",
   "version": "3.7.8"
  }
 },
 "nbformat": 4,
 "nbformat_minor": 2
}
