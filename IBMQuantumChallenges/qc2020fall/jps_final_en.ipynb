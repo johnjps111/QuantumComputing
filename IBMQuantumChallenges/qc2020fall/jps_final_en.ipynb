{
 "cells": [
  {
   "cell_type": "markdown",
   "metadata": {},
   "source": [
    "# The Final Stage"
   ]
  },
  {
   "cell_type": "markdown",
   "metadata": {},
   "source": [
    "*Dr. Ryoko is stuck in the quantum multiverse due to noise clusters interfering with her device. <br/>\n",
    "Please DM Dr. Ryoko and ask her about the **noise clusters** and you will find out more. <br/>\n",
    "Dr. Ryoko is trying to clear noise clusters with her laser beams, but has only 3 shots left.<br/>\n",
    "To make matters worse, there seems to be one area (board) that cannot be cleared within 3 shots. <br/>\n",
    "Help Dr. Ryoko identify that one area (board) with noise clusters that **cannot be cleared within 3 shots**. Good luck!<br/>*\n",
    "\n",
    "[<< Click here to communicate with Dr. Ryoko through the web cam >>](https://youtu.be/Bkk5-j6rpoM)\n",
    "\n",
    "*You can do this by learning how to solve a famous classic puzzle called “Asteroids puzzle”.*"
   ]
  },
  {
   "cell_type": "markdown",
   "metadata": {},
   "source": [
    "# Week3: False Asteroids\n",
    "Asteroids is a famous puzzle with the following setup and rules:\n",
    "- The asteroids are placed on a grid.\n",
    "- The objective is to destroy all the asteroids by shooting laser beams: either vertically or horizontally.\n",
    "- Determine how to destroy all the asteroids by shooting no more than the specified number of beams.\n",
    "\n",
    "The following image is an example of an Asteroids puzzle. In this example, the board size is 4 × 4 and we have six asteroids."
   ]
  },
  {
   "cell_type": "markdown",
   "metadata": {},
   "source": [
    "As shown below, we can destroy all the asteroids by shooting 3 lasers vertically. Each thick blue line represents a laser beam. "
   ]
  },
  {
   "cell_type": "markdown",
   "metadata": {},
   "source": [
    "There are also false Asteroid problems. An Asteroid problem is false if the asteroids cannot be cleared within the specified number of beams. The following example is a false Asteroid problem with 3 laser beams."
   ]
  },
  {
   "cell_type": "markdown",
   "metadata": {},
   "source": [
    "----------\n",
    "# Final Exercise\n",
    "There are 16 areas (boards) that Dr. Ryoko needs to clear, each of which has 6 noise clusters that correspond to an asteroid in \"Asteroids puzzle\". However, there happens to be one area that cannot be cleared within three laser shots! Use Grover's algorithm you learned in Weeks 1 & 2 to find that one area (board)!"
   ]
  },
  {
   "cell_type": "markdown",
   "metadata": {},
   "source": [
    "A board with asteroids is represented with a list of tuples. Each tuple represents the coordinate of an asteroid in the format `[row index, column index]`. Therefore, a board according to the following image can be represented as:\n",
    "\n",
    "```\n",
    "[['0', '0'], ['1', '1'], ['2', '2'], ['3', '0'], ['3', '1'], ['3', '2']]\n",
    "```\n"
   ]
  },
  {
   "cell_type": "markdown",
   "metadata": {},
   "source": [
    "There are 16 areas (boards) with the following configurations.\n",
    "Find the area that cannot be cleared with 3 laser shots by using Grover's algorithm to help Dr. Ryoko!"
   ]
  },
  {
   "cell_type": "code",
   "execution_count": null,
   "metadata": {},
   "outputs": [],
   "source": [
    "problem_set = \\\n",
    "    [[['0', '2'], ['1', '0'], ['1', '2'], ['1', '3'], ['2', '0'], ['3', '3']],\n",
    "    [['0', '0'], ['0', '1'], ['1', '2'], ['2', '2'], ['3', '0'], ['3', '3']],\n",
    "    [['0', '0'], ['1', '1'], ['1', '3'], ['2', '0'], ['3', '2'], ['3', '3']],\n",
    "    [['0', '0'], ['0', '1'], ['1', '1'], ['1', '3'], ['3', '2'], ['3', '3']],\n",
    "    [['0', '2'], ['1', '0'], ['1', '3'], ['2', '0'], ['3', '2'], ['3', '3']],\n",
    "    [['1', '1'], ['1', '2'], ['2', '0'], ['2', '1'], ['3', '1'], ['3', '3']],\n",
    "    [['0', '2'], ['0', '3'], ['1', '2'], ['2', '0'], ['2', '1'], ['3', '3']],\n",
    "    [['0', '0'], ['0', '3'], ['1', '2'], ['2', '2'], ['2', '3'], ['3', '0']],\n",
    "    [['0', '3'], ['1', '1'], ['1', '2'], ['2', '0'], ['2', '1'], ['3', '3']],\n",
    "    [['0', '0'], ['0', '1'], ['1', '3'], ['2', '1'], ['2', '3'], ['3', '0']],\n",
    "    [['0', '1'], ['0', '3'], ['1', '2'], ['1', '3'], ['2', '0'], ['3', '2']],\n",
    "    [['0', '0'], ['1', '3'], ['2', '0'], ['2', '1'], ['2', '3'], ['3', '1']],\n",
    "    [['0', '1'], ['0', '2'], ['1', '0'], ['1', '2'], ['2', '2'], ['2', '3']],\n",
    "    [['0', '3'], ['1', '0'], ['1', '3'], ['2', '1'], ['2', '2'], ['3', '0']],\n",
    "    [['0', '2'], ['0', '3'], ['1', '2'], ['2', '3'], ['3', '0'], ['3', '1']],\n",
    "    [['0', '1'], ['1', '0'], ['1', '2'], ['2', '2'], ['3', '0'], ['3', '1']]]\n"
   ]
  },
  {
   "cell_type": "markdown",
   "metadata": {},
   "source": [
    "Answer by creating a quantum circuit to solve the puzzle shown with the problem set above. In the quantum circuit to be submitted, measure **only the `solution` (4bit)** that solves the puzzle. <br/>\n",
    "To submit your solution, create a function that takes `problem_set` as an input and then returns a  `QuantumCircuit`.  You can name the function as you like. Make sure it works even with another dataset of \"problem_set\". We will validate your circuit with different inputs.<br/>\n",
    "Make a circuit that gets the correct answer at a low cost. The lower the cost, the better.\n",
    "\n",
    "## <span style=\"color: red; \">IMPORTANT: Final exercise submission rules</span>\n",
    "\n",
    "**For solving this problem:**<br/>\n",
    "- **Please implement the quantum circuit within <span style=\"color: red; \">28 qubits.</span>**<br/>\n",
    "- Use **Grover's algorithm** you learned in Week1 & 2 with **<span style=\"color: red; \">iteration ＝ 1.</span>**\n",
    "- The initial state for Grover's algorithm must be equal probability distributions. For example, if you want use only 3 computational bases for 2 qubits instead of 4 as the initial state. Then, the state will be $\\sqrt\\frac{1}{3} (|00\\rangle + |01\\rangle + |11\\rangle)$\n",
    "\n",
    "- Please note that you can get the answer with the same endian as the one used in Week2 explanation. You should map the index of the problem into four classical registers *`c[0:4]`* in binary. `c[0]` is the highest bit and `c[3]` is the lowest bit. For example, when mapping 12, the furthest left bit of the `1100` will be mapped to `c[0]`.\n",
    "- Make sure you **create an oracle** that **doesn't require any knowledge of what the answers are**. (For example, you are not allowed to create an oracle by using a classical optimization solver to get your answers for it.)  \n",
    "- With the exception of the Unroller, which is required for decomposing your circuit to calculate quantum costs, you are not allowed to use any existing transpiler passes nor original transpilers for making simplifications in this competition.\n",
    "- Please **do not run jobs in succession** even if you are concerned that your job is not running properly. This can create a long queue and clog the backend. You can check whether your job is running properly at:<br/>\n",
    "https://quantum-computing.ibm.com/results  \n",
    "- Your score for this exercise will be same as the cost of your QuantumCircuit. The lower the cost, the better.\n",
    "- Judges will check top 10 solutions manually to see if their solutions adhere to the rules. **Please note that your ranking is subject to change after the challenge period as a result of the judging process.**\n",
    "- Top 10 participants will be recognized and asked to submit a write up on how they solved the exercise."
   ]
  },
  {
   "cell_type": "code",
   "execution_count": null,
   "metadata": {},
   "outputs": [],
   "source": [
    "#initialization\n",
    "import matplotlib.pyplot as plt\n",
    "%matplotlib inline\n",
    "import numpy as np\n",
    "import itertools\n",
    "\n",
    "# importing Qiskit\n",
    "from qiskit import IBMQ, BasicAer\n",
    "from qiskit.providers.ibmq import least_busy\n",
    "from qiskit import QuantumCircuit, ClassicalRegister, QuantumRegister\n",
    "from qiskit import Aer, execute\n",
    "\n",
    "# optimization\n",
    "from qiskit.transpiler import PassManager\n",
    "from qiskit.transpiler.passes import Unroller\n",
    "from qiskit.compiler import transpile\n",
    "\n",
    "# import basic plot tools\n",
    "from qiskit.tools.visualization import plot_histogram\n",
    "from qiskit.visualization import plot_bloch_multivector\n"
   ]
  },
  {
   "cell_type": "code",
   "execution_count": 72,
   "metadata": {},
   "outputs": [],
   "source": [
    "##########################################################################################\n",
    "def binarise(inp, length):\n",
    "    ret = []\n",
    "    for j in range(length):\n",
    "        ret.append(inp%2)\n",
    "        inp //= 2\n",
    "    return ret[::-1]\n",
    "\n",
    "##########################################################################################\n",
    "def diffuser(qc, reg) :\n",
    "    qc.h(reg)\n",
    "    qc.x(reg)\n",
    "    qc.h(reg[-1])\n",
    "    qc.mct(reg[:-1],reg[-1])\n",
    "    qc.h(reg[-1])\n",
    "    qc.x(reg)\n",
    "    qc.h(reg)\n",
    "\n",
    "##########################################################################################\n",
    "# inner oracle\n",
    "def inner_oracle(qc, qTile, qCounter, nonBrokens, isDagger) :\n",
    "    for nonBroken in nonBrokens:\n",
    "        # toggle relevant qubits\n",
    "        for j in nonBroken:\n",
    "            qc.x(qTile[j])\n",
    "        # grab qTile qubits for this instance\n",
    "        control = []\n",
    "        for num in nonBroken:\n",
    "            control.append(qTile[num])\n",
    "        control.append(qCounter[0])\n",
    "        # count how many were on after toggling\n",
    "        if isDagger : #during un-computation\n",
    "            qc.rccx(qCounter[0], qCounter[1], qCounter[2])\n",
    "            qc.mct(control, qCounter[1])\n",
    "            qc.mct(control[:-1], qCounter[1])\n",
    "        else : # during computation\n",
    "            qc.mct(control[:-1], qCounter[1])\n",
    "            qc.mct(control, qCounter[1])\n",
    "            qc.rccx(qCounter[0], qCounter[1], qCounter[2])            \n",
    "        # un-toggle relevant qubits\n",
    "        for j in nonBroken:\n",
    "            qc.x(qTile[j])\n",
    "\n",
    "##########################################################################################\n",
    "# applyQRAM\n",
    "def applyQRAM(qc, qTile, qAddr, problemSet):\n",
    "    for b in range(16):\n",
    "        address = b\n",
    "        problem = problemSet[b]\n",
    "        add_leng = len(qAddr)\n",
    "        add = binarise(address, add_leng)\n",
    "\n",
    "        in_leng = len(qTile)\n",
    "        for j in range(add_leng):\n",
    "            if add[j] == 0:\n",
    "                qc.x(qAddr[j])\n",
    "        # pack in marked tiles            # problem[j] == 1: this is where I was going\n",
    "        for j in range(in_leng):          # wrong: it helps to only tie the asteroids\n",
    "            if problem[j] == 1:           # to qRAM, not the entire board.\n",
    "                qc.mct(qAddr, qTile[j])   # does that disqualify us... hope not! :-)\n",
    "        for j in range(add_leng):\n",
    "            if add[j] == 0:\n",
    "                qc.x(qAddr[j])\n",
    "\n",
    "##########################################################################################\n",
    "def week3_ans_func(problem_set):\n",
    "    \n",
    "    ######################################################################\n",
    "    # classical set-up...\n",
    "    ######################################################################\n",
    "\n",
    "    # turn problem_set into a grid of 0's and 1's rather than list of string pairs\n",
    "    tmpProblemSet = []\n",
    "    for problem in problem_set:\n",
    "        temp = []\n",
    "        for ij in problem:\n",
    "            temp.append(int(ij[0])*4 + int(ij[1]))\n",
    "        tmpProblemSet.append(temp)\n",
    "    problemSet = [[0]*16 for j in range(16)]\n",
    "    for i in range(16):\n",
    "        for j in tmpProblemSet[i]:\n",
    "            problemSet[i][j] = 1\n",
    "    \n",
    "    # describe possible ways of shooting (horizontal or vertical)\n",
    "    # (in terms of the cells the shot would impact in a grid)\n",
    "    h0 = set([12,13,14,15])\n",
    "    h1 = set([8,9,10,11])\n",
    "    h2 = set([4,5,6,7])\n",
    "    h3 = set([0,1,2,3])\n",
    "    v0 = set([0,4,8,12])\n",
    "    v1 = set([1,5,9,13])\n",
    "    v2 = set([2,6,10,14])\n",
    "    v3 = set([3,7,11,15])\n",
    "    beams = [h0,h1,h2,h3,v0,v1,v2,v3]\n",
    "\n",
    "    # describe all possible shot combinations \n",
    "    # (in terms of which of the 8 possible beams are used)\n",
    "    beamShots = []\n",
    "    for j in range(256):\n",
    "        candidate = binarise(j, 8)\n",
    "        if candidate.count(1) == 3:\n",
    "            beamShots.append(candidate)\n",
    "\n",
    "    # describe what's left after each shot combination\n",
    "    # in terms of cells in a grid not hit by the shots\n",
    "    # (is this using too much classical figuring...?)\n",
    "    nonBrokens = []\n",
    "    for shots in beamShots:\n",
    "        b = set([j for j in range(16)])\n",
    "        for k in range(8):\n",
    "            if shots[k] == 1:\n",
    "                b -= beams[k]\n",
    "        nonBrokens.append(list(b))\n",
    "\n",
    "    ######################################################################\n",
    "    # quantum computation...\n",
    "    ######################################################################\n",
    "\n",
    "    # quantum computing definitions\n",
    "    qAddr = QuantumRegister(4, name='address')\n",
    "    qTile = QuantumRegister(16, name='input')\n",
    "    qCounter = QuantumRegister(3, name='counter')\n",
    "    qOracle = QuantumRegister(1, name='oracle')\n",
    "    cbit = ClassicalRegister(4, name='cbits')\n",
    "    qc = QuantumCircuit(qAddr, qTile, qCounter, qOracle, cbit)\n",
    "    \n",
    "    # create superpositions\n",
    "    qc.h(qAddr)\n",
    "    qc.x(qOracle)\n",
    "    qc.h(qOracle)\n",
    "    \n",
    "    # apply QRAM\n",
    "    applyQRAM(qc, qTile, qAddr, problemSet)\n",
    "    \n",
    "    # inner oracle: qCounter will be a count of qubits on after toggling\n",
    "    inner_oracle(qc, qTile, qCounter, nonBrokens, False)\n",
    "\n",
    "    # oracle - we want qCounter all zeroes: the address that fails\n",
    "    qc.x(qCounter)\n",
    "    qc.mct(qCounter, qOracle)\n",
    "    qc.x(qCounter)\n",
    "    \n",
    "    # inner oracle (un-computation)\n",
    "    inner_oracle(qc, qTile, qCounter, nonBrokens, True)\n",
    "\n",
    "    # apply QRAM (un-computation)\n",
    "    applyQRAM(qc, qTile, qAddr, problemSet)\n",
    "\n",
    "    # diffusion\n",
    "    diffuser(qc, qAddr)\n",
    "\n",
    "    # measurement\n",
    "    qc.measure(qAddr[:], cbit[:])\n",
    "    \n",
    "    #pmu = Unroller(['u3','cx'])\n",
    "    #pmm = PassManager(pmu)\n",
    "    #qc_nonopt = pmm.run(qc)\n",
    "    #qc_opt = transpile(qc_nonopt, basis_gates=['u3','cx'],optimization_level=3)\n",
    "\n",
    "    return qc\n"
   ]
  },
  {
   "cell_type": "code",
   "execution_count": 73,
   "metadata": {},
   "outputs": [
    {
     "data": {
      "image/png": "[encoded data removed]",
      "text/plain": [
       "<Figure size 504x360 with 1 Axes>"
      ]
     },
     "execution_count": 73,
     "metadata": {},
     "output_type": "execute_result"
    }
   ],
   "source": [
    "# import basic plot tools\n",
    "from qiskit.tools.visualization import plot_histogram\n",
    "from qiskit.visualization import plot_bloch_multivector\n",
    "\n",
    "q0 = [[[['0', '2'], ['1', '0'], ['1', '2'], ['1', '3'], ['2', '0'], ['3', '3']],\n",
    "    [['0', '0'], ['0', '1'], ['1', '2'], ['2', '2'], ['3', '0'], ['3', '3']],\n",
    "    [['0', '0'], ['1', '1'], ['1', '3'], ['2', '0'], ['3', '2'], ['3', '3']],\n",
    "    [['0', '0'], ['0', '1'], ['1', '1'], ['1', '3'], ['3', '2'], ['3', '3']],\n",
    "    [['0', '2'], ['1', '0'], ['1', '3'], ['2', '0'], ['3', '2'], ['3', '3']],\n",
    "    [['1', '1'], ['1', '2'], ['2', '0'], ['2', '1'], ['3', '1'], ['3', '3']],\n",
    "    [['0', '2'], ['0', '3'], ['1', '2'], ['2', '0'], ['2', '1'], ['3', '3']],\n",
    "    [['0', '0'], ['0', '3'], ['1', '2'], ['2', '2'], ['2', '3'], ['3', '0']],\n",
    "    [['0', '3'], ['1', '1'], ['1', '2'], ['2', '0'], ['2', '1'], ['3', '3']],\n",
    "    [['0', '0'], ['0', '1'], ['1', '3'], ['2', '1'], ['2', '3'], ['3', '0']],\n",
    "    [['0', '1'], ['0', '3'], ['1', '2'], ['1', '3'], ['2', '0'], ['3', '2']],\n",
    "    [['0', '0'], ['1', '3'], ['2', '0'], ['2', '1'], ['2', '3'], ['3', '1']],\n",
    "    [['0', '1'], ['0', '2'], ['1', '0'], ['1', '2'], ['2', '2'], ['2', '3']],\n",
    "    [['0', '3'], ['1', '0'], ['1', '3'], ['2', '1'], ['2', '2'], ['3', '0']],\n",
    "    [['0', '2'], ['0', '3'], ['1', '2'], ['2', '3'], ['3', '0'], ['3', '1']],\n",
    "    [['0', '1'], ['1', '0'], ['1', '2'], ['2', '2'], ['3', '0'], ['3', '1']]],'11']\n",
    "\n",
    "q1 = [[[['0', '1'], ['0', '2'], ['1', '0'], ['2', '0'], ['3', '1'], ['3', '3']],\n",
    "    [['0', '2'], ['0', '3'], ['1', '1'], ['1', '3'], ['2', '0'], ['2', '1']],\n",
    "    [['0', '0'], ['0', '3'], ['2', '1'], ['2', '2'], ['3', '0'], ['3', '1']],\n",
    "    [['0', '0'], ['0', '1'], ['0', '2'], ['1', '1'], ['2', '0'], ['3', '2']],\n",
    "    [['0', '1'], ['1', '2'], ['1', '3'], ['2', '0'], ['3', '0'], ['3', '1']],\n",
    "    [['0', '2'], ['0', '3'], ['1', '1'], ['2', '0'], ['2', '1'], ['3', '0']],\n",
    "    [['0', '0'], ['0', '3'], ['1', '2'], ['2', '0'], ['2', '1'], ['3', '3']],\n",
    "    [['0', '2'], ['1', '1'], ['1', '3'], ['2', '0'], ['2', '3'], ['3', '2']],\n",
    "    [['0', '1'], ['0', '3'], ['2', '0'], ['2', '2'], ['3', '0'], ['3', '3']],\n",
    "    [['0', '0'], ['0', '2'], ['1', '0'], ['2', '2'], ['2', '3'], ['3', '3']],\n",
    "    [['1', '0'], ['1', '3'], ['2', '1'], ['2', '2'], ['3', '2'], ['3', '3']],\n",
    "    [['0', '0'], ['1', '0'], ['2', '1'], ['2', '2'], ['3', '2'], ['3', '3']],\n",
    "    [['0', '0'], ['1', '1'], ['1', '2'], ['2', '1'], ['2', '3'], ['3', '0']],\n",
    "    [['0', '1'], ['0', '3'], ['2', '1'], ['2', '2'], ['3', '0'], ['3', '1']],\n",
    "    [['0', '0'], ['0', '1'], ['1', '1'], ['1', '3'], ['3', '2'], ['3', '3']],\n",
    "    [['0', '0'], ['0', '3'], ['1', '2'], ['1', '3'], ['3', '0'], ['3', '1']]], '6']\n",
    "\n",
    "q2 = [[[['0', '0'], ['0', '2'], ['1', '0'], ['1', '1'], ['3', '1'], ['3', '3']],\n",
    "    [['0', '2'], ['0', '3'], ['1', '1'], ['1', '3'], ['2', '0'], ['2', '1']],\n",
    "    [['0', '0'], ['1', '0'], ['2', '1'], ['2', '3'], ['3', '2'], ['3', '3']],\n",
    "    [['0', '2'], ['0', '3'], ['1', '1'], ['1', '2'], ['3', '0'], ['3', '2']],\n",
    "    [['0', '2'], ['0', '3'], ['2', '0'], ['2', '1'], ['3', '1'], ['3', '3']],\n",
    "    [['0', '1'], ['0', '3'], ['1', '2'], ['1', '3'], ['2', '2'], ['3', '1']],\n",
    "    [['0', '0'], ['1', '0'], ['2', '2'], ['2', '3'], ['3', '1'], ['3', '3']],\n",
    "    [['0', '0'], ['0', '1'], ['1', '2'], ['2', '0'], ['3', '1'], ['3', '2']],\n",
    "    [['0', '1'], ['0', '2'], ['1', '0'], ['1', '3'], ['3', '0'], ['3', '1']],\n",
    "    [['0', '0'], ['0', '2'], ['1', '0'], ['1', '3'], ['2', '1'], ['2', '2']],\n",
    "    [['0', '0'], ['0', '1'], ['0', '3'], ['1', '0'], ['2', '1'], ['3', '3']],\n",
    "    [['0', '0'], ['0', '3'], ['1', '1'], ['1', '3'], ['2', '0'], ['2', '2']],\n",
    "    [['0', '1'], ['1', '3'], ['2', '0'], ['2', '1'], ['2', '3'], ['3', '0']],\n",
    "    [['0', '0'], ['1', '1'], ['2', '0'], ['2', '3'], ['3', '1'], ['3', '2']],\n",
    "    [['0', '0'], ['0', '3'], ['1', '2'], ['2', '2'], ['3', '1'], ['3', '3']],\n",
    "    [['0', '2'], ['0', '3'], ['1', '0'], ['1', '2'], ['2', '1'], ['2', '2']]], '13']\n",
    "\n",
    "q3 = [[[['0', '2'], ['0', '3'], ['1', '1'], ['2', '0'], ['3', '0'], ['3', '1']],\n",
    "    [['0', '1'], ['0', '3'], ['2', '0'], ['2', '2'], ['3', '0'], ['3', '1']],\n",
    "    [['0', '0'], ['0', '3'], ['1', '1'], ['1', '3'], ['2', '2'], ['2', '3']],\n",
    "    [['0', '2'], ['0', '3'], ['1', '0'], ['1', '1'], ['2', '3'], ['3', '1']],\n",
    "    [['0', '1'], ['0', '2'], ['1', '0'], ['2', '0'], ['2', '3'], ['3', '3']],\n",
    "    [['0', '3'], ['1', '0'], ['1', '2'], ['2', '1'], ['2', '2'], ['3', '3']],\n",
    "    [['0', '1'], ['0', '3'], ['2', '0'], ['2', '3'], ['3', '2'], ['3', '3']],\n",
    "    [['1', '0'], ['1', '1'], ['2', '1'], ['2', '3'], ['3', '2'], ['3', '3']],\n",
    "    [['0', '1'], ['0', '2'], ['1', '0'], ['1', '3'], ['2', '3'], ['3', '0']],\n",
    "    [['0', '0'], ['1', '1'], ['1', '3'], ['2', '0'], ['3', '2'], ['3', '3']],\n",
    "    [['0', '1'], ['0', '2'], ['1', '3'], ['2', '0'], ['3', '0'], ['3', '3']],\n",
    "    [['0', '0'], ['0', '1'], ['2', '0'], ['2', '3'], ['3', '2'], ['3', '3']],\n",
    "    [['0', '3'], ['1', '0'], ['1', '2'], ['2', '2'], ['3', '0'], ['3', '3']],\n",
    "    [['0', '0'], ['0', '3'], ['1', '0'], ['1', '1'], ['2', '0'], ['2', '2']],\n",
    "    [['0', '1'], ['0', '3'], ['1', '2'], ['2', '0'], ['2', '1'], ['3', '2']],\n",
    "    [['0', '2'], ['0', '3'], ['1', '3'], ['2', '0'], ['2', '2'], ['3', '0']]], '3']\n",
    "\n",
    "qc = week3_ans_func(q1[0])\n",
    "\n",
    "# Simulate and plot results\n",
    "qasm_simulator = Aer.get_backend('qasm_simulator')\n",
    "result = execute(qc, backend=qasm_simulator, shots=100).result()\n",
    "plot_histogram(result.get_counts())\n",
    "\n",
    "### real quantum device...\n",
    "### Load our saved IBMQ accounts and get the least busy backend device\n",
    "#IBMQ.load_account()\n",
    "#provider = IBMQ.get_provider(hub='ibm-q')\n",
    "#my_backend = least_busy(provider.backends(filters=lambda b: b.configuration().n_qubits >= 28 and\n",
    "#                                   not b.configuration().simulator and b.status().operational==True))\n",
    "#print(\"Least busy backend: \", my_backend)"
   ]
  },
  {
   "cell_type": "code",
   "execution_count": null,
   "metadata": {},
   "outputs": [],
   "source": []
  },
  {
   "cell_type": "code",
   "execution_count": 48,
   "metadata": {},
   "outputs": [
    {
     "name": "stdout",
     "output_type": "stream",
     "text": [
      "Running week3_ans_func...\n",
      "Computing cost...\n",
      "Starting experiments. Please wait...\n",
      "You may monitor the job (id: 5fc69388b67b8e001ad69b26) status and proceed to grading when it successfully completes.\n",
      "qc_cost 723836\n"
     ]
    },
    {
     "data": {
      "text/plain": [
       "{'0000': 31,\n",
       " '0001': 36,\n",
       " '0010': 31,\n",
       " '0011': 34,\n",
       " '0100': 39,\n",
       " '0101': 479,\n",
       " '0110': 34,\n",
       " '0111': 30,\n",
       " '1000': 36,\n",
       " '1001': 27,\n",
       " '1010': 44,\n",
       " '1011': 40,\n",
       " '1100': 42,\n",
       " '1101': 25,\n",
       " '1110': 32,\n",
       " '1111': 40}"
      ]
     },
     "execution_count": 48,
     "metadata": {},
     "output_type": "execute_result"
    }
   ],
   "source": [
    "# Submission code\n",
    "from qc_grader import grade_ex3, prepare_ex3, submit_ex3\n",
    "\n",
    "# Execute your circuit with following prepare_ex3() function.\n",
    "# The prepare_ex3() function works like the execute() function with only QuantumCircuit as an argument.\n",
    "job = prepare_ex3(week3_ans_func)\n",
    "\n",
    "result = job.result()\n",
    "counts = result.get_counts()\n",
    "original_problem_set_counts = counts[0]\n",
    "print('qc_cost',result.header.qc_cost)\n",
    "original_problem_set_counts\n",
    "# The bit string with the highest number of observations is treated as the solution."
   ]
  },
  {
   "cell_type": "code",
   "execution_count": 49,
   "metadata": {},
   "outputs": [
    {
     "data": {
      "image/png": "[encoded data removed]",
      "text/plain": [
       "<Figure size 504x360 with 1 Axes>"
      ]
     },
     "execution_count": 49,
     "metadata": {},
     "output_type": "execute_result"
    }
   ],
   "source": [
    "plot_histogram(result.get_counts())"
   ]
  },
  {
   "cell_type": "code",
   "execution_count": 50,
   "metadata": {},
   "outputs": [
    {
     "name": "stdout",
     "output_type": "stream",
     "text": [
      "Grading your answer. Please wait...\n",
      "\n",
      "Congratulations 🎉! Your answer is correct.\n",
      "Your score is 723836.\n",
      "The lower your score the better!\n",
      "Feel free to submit your answer.\n"
     ]
    }
   ],
   "source": [
    "# Check your answer by executing following code.\n",
    "# The quantum cost of the QuantumCircuit is obtained as the score. The lower the cost, the better.\n",
    "# original successful score was...: 125,138,250\n",
    "# Anuj Mehrotra's cleanup 1 was...:     727,532\n",
    "# My additional cleanup 1 was.....:     723,836 (final cleanup/re-org was the same)\n",
    "# My additional cleanup 2 was.....:     721,352 (but this sucked - ran slow)\n",
    "grade_ex3(job)"
   ]
  },
  {
   "cell_type": "code",
   "execution_count": null,
   "metadata": {},
   "outputs": [],
   "source": [
    "# Submit your results by executing following code. You can submit as many times as you like during the period. \n",
    "submit_ex3(job)"
   ]
  }
 ],
 "metadata": {
  "kernelspec": {
   "display_name": "Python 3",
   "language": "python",
   "name": "python3"
  },
  "language_info": {
   "codemirror_mode": {
    "name": "ipython",
    "version": 3
   },
   "file_extension": ".py",
   "mimetype": "text/x-python",
   "name": "python",
   "nbconvert_exporter": "python",
   "pygments_lexer": "ipython3",
   "version": "3.6.9"
  }
 },
 "nbformat": 4,
 "nbformat_minor": 2
}
